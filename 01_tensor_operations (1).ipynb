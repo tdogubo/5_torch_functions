{
  "nbformat": 4,
  "nbformat_minor": 0,
  "metadata": {
    "colab": {
      "name": "01-tensor-operations.ipynb",
      "provenance": []
    },
    "kernelspec": {
      "display_name": "Python 3",
      "language": "python",
      "name": "python3"
    },
    "language_info": {
      "codemirror_mode": {
        "name": "ipython",
        "version": 3
      },
      "file_extension": ".py",
      "mimetype": "text/x-python",
      "name": "python",
      "nbconvert_exporter": "python",
      "pygments_lexer": "ipython3",
      "version": "3.8.5"
    }
  },
  "cells": [
    {
      "cell_type": "code",
      "metadata": {
        "colab": {
          "base_uri": "https://localhost:8080/"
        },
        "id": "SlZSG7737hKs",
        "outputId": "6480232e-6a60-4e23-a2c6-1daa992b4f40"
      },
      "source": [
        "# Jovian Commit Essentials\n",
        "# Please retain and execute this cell without modifying the contents for `jovian.commit` to work\n",
        "!pip install jovian --upgrade -q\n",
        "import jovian\n",
        "jovian.utils.colab.set_colab_file_id('1XkmqBOy7i9WgzXeM9TUhfC9Eioe-nSLY')"
      ],
      "execution_count": 1,
      "outputs": [
        {
          "output_type": "stream",
          "text": [
            "\u001b[?25l\r\u001b[K     |█████                           | 10kB 19.3MB/s eta 0:00:01\r\u001b[K     |██████████                      | 20kB 23.4MB/s eta 0:00:01\r\u001b[K     |██████████████▉                 | 30kB 12.2MB/s eta 0:00:01\r\u001b[K     |███████████████████▉            | 40kB 8.9MB/s eta 0:00:01\r\u001b[K     |████████████████████████▉       | 51kB 4.4MB/s eta 0:00:01\r\u001b[K     |█████████████████████████████▊  | 61kB 5.0MB/s eta 0:00:01\r\u001b[K     |████████████████████████████████| 71kB 3.5MB/s \n",
            "\u001b[?25h  Building wheel for uuid (setup.py) ... \u001b[?25l\u001b[?25hdone\n"
          ],
          "name": "stdout"
        }
      ]
    },
    {
      "cell_type": "markdown",
      "metadata": {
        "id": "ri8dcf1dLfgs"
      },
      "source": [
        "# 5 Interesting Pytorch Functions\n",
        "\n",
        "PyTorch is a free and open source machine learning framework primarily developed by Facebook's AI Research lab (FAIR) used for applications such as natural language processing and computer vision. The following functions shall be used as examples for showcasing the awesomeness that is pytorch. \n",
        "\n",
        "- torch.eye\n",
        "- torch.chunk\n",
        "- torch.t\n",
        "- torch.movedim\n",
        "- torch.floor\n",
        "\n",
        "Before we begin, let's install and import PyTorch"
      ]
    },
    {
      "cell_type": "code",
      "metadata": {
        "id": "_E0_ohOCLfgt"
      },
      "source": [
        "# Import torch and other required modules\n",
        "import torch\n",
        "import numpy as np"
      ],
      "execution_count": 2,
      "outputs": []
    },
    {
      "cell_type": "markdown",
      "metadata": {
        "id": "pDAp69bqLfgt"
      },
      "source": [
        "## Function 1 - torch.eye\n",
        "This function returns a 2-D tensor with ones on the diagonal and zeros elsewhere."
      ]
    },
    {
      "cell_type": "code",
      "metadata": {
        "colab": {
          "base_uri": "https://localhost:8080/"
        },
        "id": "NH6YtiUhUpb-",
        "outputId": "920feffc-31e2-42f7-b16e-279a478e47f6"
      },
      "source": [
        "t1= torch.eye(7)\n",
        "t1"
      ],
      "execution_count": 3,
      "outputs": [
        {
          "output_type": "execute_result",
          "data": {
            "text/plain": [
              "tensor([[1., 0., 0., 0., 0., 0., 0.],\n",
              "        [0., 1., 0., 0., 0., 0., 0.],\n",
              "        [0., 0., 1., 0., 0., 0., 0.],\n",
              "        [0., 0., 0., 1., 0., 0., 0.],\n",
              "        [0., 0., 0., 0., 1., 0., 0.],\n",
              "        [0., 0., 0., 0., 0., 1., 0.],\n",
              "        [0., 0., 0., 0., 0., 0., 1.]])"
            ]
          },
          "metadata": {
            "tags": []
          },
          "execution_count": 3
        }
      ]
    },
    {
      "cell_type": "markdown",
      "metadata": {
        "id": "rwCySZ6-U0A6"
      },
      "source": [
        "Returns the number of `1s` specified in diagonal form and `0s` elsewhere. That means `7` specifies `7` `1s`, `7` rows and `7` columns if nothing else is defined."
      ]
    },
    {
      "cell_type": "code",
      "metadata": {
        "colab": {
          "base_uri": "https://localhost:8080/"
        },
        "id": "z_JmJYf7Lfgt",
        "outputId": "b581a48d-3317-4330-8871-25f3346abb6c"
      },
      "source": [
        "t2=torch.eye(n=5,m=3)\n",
        "t2"
      ],
      "execution_count": 4,
      "outputs": [
        {
          "output_type": "execute_result",
          "data": {
            "text/plain": [
              "tensor([[1., 0., 0.],\n",
              "        [0., 1., 0.],\n",
              "        [0., 0., 1.],\n",
              "        [0., 0., 0.],\n",
              "        [0., 0., 0.]])"
            ]
          },
          "metadata": {
            "tags": []
          },
          "execution_count": 4
        }
      ]
    },
    {
      "cell_type": "markdown",
      "metadata": {
        "id": "gR0edhcBLfgu"
      },
      "source": [
        "`t2` returns a tensor with `1` on the diagonal according the the number of specified and `0` in other places. Where `n` is `int` and represents the number of rows and `m` is `int` and represents the number of columns. If `m` is not specified, the default number of columns will be the same as `n`."
      ]
    },
    {
      "cell_type": "code",
      "metadata": {
        "colab": {
          "base_uri": "https://localhost:8080/",
          "height": 166
        },
        "id": "iQkCLgoWLfgu",
        "outputId": "abebce9f-d318-4828-b207-a1cf7e34e4a6"
      },
      "source": [
        "t3=torch.eye(3.4)"
      ],
      "execution_count": 5,
      "outputs": [
        {
          "output_type": "error",
          "ename": "TypeError",
          "evalue": "ignored",
          "traceback": [
            "\u001b[0;31m---------------------------------------------------------------------------\u001b[0m",
            "\u001b[0;31mTypeError\u001b[0m                                 Traceback (most recent call last)",
            "\u001b[0;32m<ipython-input-5-868a16bc9fe8>\u001b[0m in \u001b[0;36m<module>\u001b[0;34m()\u001b[0m\n\u001b[0;32m----> 1\u001b[0;31m \u001b[0mt3\u001b[0m\u001b[0;34m=\u001b[0m\u001b[0mtorch\u001b[0m\u001b[0;34m.\u001b[0m\u001b[0meye\u001b[0m\u001b[0;34m(\u001b[0m\u001b[0;36m3.4\u001b[0m\u001b[0;34m)\u001b[0m\u001b[0;34m\u001b[0m\u001b[0;34m\u001b[0m\u001b[0m\n\u001b[0m",
            "\u001b[0;31mTypeError\u001b[0m: eye(): argument 'n' (position 1) must be int, not float"
          ]
        }
      ]
    },
    {
      "cell_type": "markdown",
      "metadata": {
        "id": "eXfCZgSlLfgu"
      },
      "source": [
        "The error which caused the function to break was caused by a wrong input of a `float` instead of an `int`. In order to correct the error, an `int` should be used."
      ]
    },
    {
      "cell_type": "markdown",
      "metadata": {
        "id": "FRXIbduVLfgu"
      },
      "source": [
        "Can be used when you want a matrix made up of only `1s` and `0s` with only the `1s` as the diagonal."
      ]
    },
    {
      "cell_type": "markdown",
      "metadata": {
        "id": "uWtatA_wLfgv"
      },
      "source": [
        "Let's save our work using Jovian before continuing."
      ]
    },
    {
      "cell_type": "code",
      "metadata": {
        "id": "Tzb75lSyLfgv"
      },
      "source": [
        "import jovian"
      ],
      "execution_count": 6,
      "outputs": []
    },
    {
      "cell_type": "code",
      "metadata": {
        "colab": {
          "base_uri": "https://localhost:8080/",
          "height": 105
        },
        "id": "7BNiwZuILfgv",
        "outputId": "0fce96e9-64cd-43c9-b9a3-417c77058339"
      },
      "source": [
        "jovian.commit(project='01-tensor-operations')"
      ],
      "execution_count": 8,
      "outputs": [
        {
          "output_type": "stream",
          "text": [
            "[jovian] Detected Colab notebook...\u001b[0m\n",
            "[jovian] Uploading colab notebook to Jovian...\u001b[0m\n",
            "[jovian] Capturing environment..\u001b[0m\n",
            "[jovian] Committed successfully! https://jovian.ai/tdogubo/01-tensor-operations\u001b[0m\n"
          ],
          "name": "stdout"
        },
        {
          "output_type": "execute_result",
          "data": {
            "application/vnd.google.colaboratory.intrinsic+json": {
              "type": "string"
            },
            "text/plain": [
              "'https://jovian.ai/tdogubo/01-tensor-operations'"
            ]
          },
          "metadata": {
            "tags": []
          },
          "execution_count": 8
        }
      ]
    },
    {
      "cell_type": "markdown",
      "metadata": {
        "id": "1oHLBmCALfgv"
      },
      "source": [
        "## Function 2 - torch.chunk\n",
        "\n",
        "Splits a tensor into a specified number of `chunks`."
      ]
    },
    {
      "cell_type": "code",
      "metadata": {
        "colab": {
          "base_uri": "https://localhost:8080/"
        },
        "id": "QBx9HFxlLfgv",
        "outputId": "72fa4bfa-f4e3-4f16-9c71-f3aa30ab39a2"
      },
      "source": [
        "array= np.random.rand(10,8)\n",
        "t4= torch.tensor(array)\n",
        "torch.chunk(t4,chunks=2)"
      ],
      "execution_count": 9,
      "outputs": [
        {
          "output_type": "execute_result",
          "data": {
            "text/plain": [
              "(tensor([[0.3045, 0.6568, 0.0168, 0.6546, 0.6669, 0.3048, 0.9405, 0.7678],\n",
              "         [0.1959, 0.2115, 0.1587, 0.3965, 0.8109, 0.8855, 0.3663, 0.7879],\n",
              "         [0.3900, 0.7195, 0.2936, 0.0038, 0.4007, 0.9123, 0.5969, 0.5127],\n",
              "         [0.4469, 0.0045, 0.8723, 0.4075, 0.4436, 0.6354, 0.3035, 0.7578],\n",
              "         [0.7175, 0.0156, 0.3618, 0.1916, 0.7163, 0.4546, 0.8116, 0.1065]],\n",
              "        dtype=torch.float64),\n",
              " tensor([[0.1627, 0.4300, 0.6339, 0.6831, 0.0658, 0.2684, 0.1673, 0.4152],\n",
              "         [0.0204, 0.1030, 0.1350, 0.8292, 0.5907, 0.0137, 0.5460, 0.2489],\n",
              "         [0.2135, 0.6857, 0.8820, 0.6161, 0.7198, 0.3271, 0.4453, 0.9661],\n",
              "         [0.2173, 0.3634, 0.8845, 0.1074, 0.0177, 0.1607, 0.9584, 0.4972],\n",
              "         [0.1848, 0.4776, 0.8929, 0.1867, 0.6230, 0.6168, 0.5298, 0.6244]],\n",
              "        dtype=torch.float64))"
            ]
          },
          "metadata": {
            "tags": []
          },
          "execution_count": 9
        }
      ]
    },
    {
      "cell_type": "markdown",
      "metadata": {
        "id": "jP-_-WE3Lfgv"
      },
      "source": [
        "`torch.chunk` on `t4` and specifying the number of `chunks`, `2`,split the larger `t4` tensor into `2` smaller tensors or `chunks`. "
      ]
    },
    {
      "cell_type": "code",
      "metadata": {
        "colab": {
          "base_uri": "https://localhost:8080/"
        },
        "id": "SZ3UnfvzLfgv",
        "outputId": "c2beb42a-d00e-45a3-beaf-a3b17637f5cb"
      },
      "source": [
        "torch.chunk(torch.randn((5,5)), chunks=3)"
      ],
      "execution_count": 10,
      "outputs": [
        {
          "output_type": "execute_result",
          "data": {
            "text/plain": [
              "(tensor([[ 0.2290,  0.3296,  1.1069, -0.3029, -0.6434],\n",
              "         [-0.4924, -1.2191, -0.1836,  1.5504, -0.1623]]),\n",
              " tensor([[ 0.8254,  0.8015,  0.6716, -1.1041,  0.6485],\n",
              "         [ 1.0015, -0.9533, -0.8745,  0.0560,  1.2811]]),\n",
              " tensor([[ 0.7831, -0.0852, -0.0558,  0.4838,  0.3332]]))"
            ]
          },
          "metadata": {
            "tags": []
          },
          "execution_count": 10
        }
      ]
    },
    {
      "cell_type": "markdown",
      "metadata": {
        "id": "AYKDF-9pLfgv"
      },
      "source": [
        "The tensor with the shape `(5,5)` was split into `3` chunks, the first two having an equal number of rows and columns `(2,5)` each and the last having the remaining 1 row and 5 columns .`(2,5) + (2,5) + (1,5) = (5,5)` "
      ]
    },
    {
      "cell_type": "code",
      "metadata": {
        "colab": {
          "base_uri": "https://localhost:8080/",
          "height": 183
        },
        "id": "0sYrtvBuLfgv",
        "outputId": "c3da0938-b7c3-46a5-c236-fea90abd1e2f"
      },
      "source": [
        "array2= np.random.random_sample((5,5))\n",
        "torch.chunk(array2,chunk=5)"
      ],
      "execution_count": 11,
      "outputs": [
        {
          "output_type": "error",
          "ename": "TypeError",
          "evalue": "ignored",
          "traceback": [
            "\u001b[0;31m---------------------------------------------------------------------------\u001b[0m",
            "\u001b[0;31mTypeError\u001b[0m                                 Traceback (most recent call last)",
            "\u001b[0;32m<ipython-input-11-1e058898b7ee>\u001b[0m in \u001b[0;36m<module>\u001b[0;34m()\u001b[0m\n\u001b[1;32m      1\u001b[0m \u001b[0marray2\u001b[0m\u001b[0;34m=\u001b[0m \u001b[0mnp\u001b[0m\u001b[0;34m.\u001b[0m\u001b[0mrandom\u001b[0m\u001b[0;34m.\u001b[0m\u001b[0mrandom_sample\u001b[0m\u001b[0;34m(\u001b[0m\u001b[0;34m(\u001b[0m\u001b[0;36m5\u001b[0m\u001b[0;34m,\u001b[0m\u001b[0;36m5\u001b[0m\u001b[0;34m)\u001b[0m\u001b[0;34m)\u001b[0m\u001b[0;34m\u001b[0m\u001b[0;34m\u001b[0m\u001b[0m\n\u001b[0;32m----> 2\u001b[0;31m \u001b[0mtorch\u001b[0m\u001b[0;34m.\u001b[0m\u001b[0mchunk\u001b[0m\u001b[0;34m(\u001b[0m\u001b[0marray2\u001b[0m\u001b[0;34m,\u001b[0m\u001b[0mchunk\u001b[0m\u001b[0;34m=\u001b[0m\u001b[0;36m5\u001b[0m\u001b[0;34m)\u001b[0m\u001b[0;34m\u001b[0m\u001b[0;34m\u001b[0m\u001b[0m\n\u001b[0m",
            "\u001b[0;31mTypeError\u001b[0m: chunk(): argument 'input' (position 1) must be Tensor, not numpy.ndarray"
          ]
        }
      ]
    },
    {
      "cell_type": "markdown",
      "metadata": {
        "id": "ZpCoWxFcLfgv"
      },
      "source": [
        "The input given for the operation has to be a tensor, or in tensor form else, an error will occur."
      ]
    },
    {
      "cell_type": "markdown",
      "metadata": {
        "id": "DStWlrU1Lfgv"
      },
      "source": [
        "Can be used when spliting a large tensor into smaller groups while still maintaining the original size."
      ]
    },
    {
      "cell_type": "code",
      "metadata": {
        "colab": {
          "base_uri": "https://localhost:8080/",
          "height": 105
        },
        "id": "5kiXtNYeLfgv",
        "outputId": "c5df84ef-4b1b-4ca1-98ee-15054b1dcdaf"
      },
      "source": [
        "jovian.commit(project='01-tensor-operations')"
      ],
      "execution_count": 12,
      "outputs": [
        {
          "output_type": "stream",
          "text": [
            "[jovian] Detected Colab notebook...\u001b[0m\n",
            "[jovian] Uploading colab notebook to Jovian...\u001b[0m\n",
            "[jovian] Capturing environment..\u001b[0m\n",
            "[jovian] Committed successfully! https://jovian.ai/tdogubo/01-tensor-operations\u001b[0m\n"
          ],
          "name": "stdout"
        },
        {
          "output_type": "execute_result",
          "data": {
            "application/vnd.google.colaboratory.intrinsic+json": {
              "type": "string"
            },
            "text/plain": [
              "'https://jovian.ai/tdogubo/01-tensor-operations'"
            ]
          },
          "metadata": {
            "tags": []
          },
          "execution_count": 12
        }
      ]
    },
    {
      "cell_type": "markdown",
      "metadata": {
        "id": "AwiLp1ZRLfgv"
      },
      "source": [
        "## Function 3 - torch.t\n",
        "\n",
        "Converts a 2-dimensional tensor and transposes dimensions `0` and `1`."
      ]
    },
    {
      "cell_type": "code",
      "metadata": {
        "colab": {
          "base_uri": "https://localhost:8080/"
        },
        "id": "ZLgYtnRvfKLX",
        "outputId": "8205970b-5c4a-4b38-a45a-205a8d5e2b02"
      },
      "source": [
        "t5= torch.rand(1,3)\n",
        "t5"
      ],
      "execution_count": 13,
      "outputs": [
        {
          "output_type": "execute_result",
          "data": {
            "text/plain": [
              "tensor([[0.5477, 0.3472, 0.5137]])"
            ]
          },
          "metadata": {
            "tags": []
          },
          "execution_count": 13
        }
      ]
    },
    {
      "cell_type": "code",
      "metadata": {
        "colab": {
          "base_uri": "https://localhost:8080/"
        },
        "id": "9q6rd2sJLfgv",
        "outputId": "369c642b-64a1-4268-a97c-06d90babf2a7"
      },
      "source": [
        "torch.t(t5)"
      ],
      "execution_count": 14,
      "outputs": [
        {
          "output_type": "execute_result",
          "data": {
            "text/plain": [
              "tensor([[0.5477],\n",
              "        [0.3472],\n",
              "        [0.5137]])"
            ]
          },
          "metadata": {
            "tags": []
          },
          "execution_count": 14
        }
      ]
    },
    {
      "cell_type": "markdown",
      "metadata": {
        "id": "0Xk8cCbyLfgv"
      },
      "source": [
        "`torch.t` converted the `2D` Tensor, `1` column and `3` rows to a tensor with `3` rows and `1` column."
      ]
    },
    {
      "cell_type": "code",
      "metadata": {
        "colab": {
          "base_uri": "https://localhost:8080/"
        },
        "id": "RBekelBNgKQO",
        "outputId": "63b2d75a-66fe-438c-ddcc-acd4f1a57efe"
      },
      "source": [
        "t6= torch.rand(2,10)\n",
        "t6"
      ],
      "execution_count": 15,
      "outputs": [
        {
          "output_type": "execute_result",
          "data": {
            "text/plain": [
              "tensor([[0.2446, 0.7120, 0.2166, 0.8870, 0.8762, 0.8191, 0.4769, 0.2140, 0.0050,\n",
              "         0.9812],\n",
              "        [0.9207, 0.7100, 0.8306, 0.5188, 0.9461, 0.2947, 0.8578, 0.4882, 0.0801,\n",
              "         0.3850]])"
            ]
          },
          "metadata": {
            "tags": []
          },
          "execution_count": 15
        }
      ]
    },
    {
      "cell_type": "code",
      "metadata": {
        "colab": {
          "base_uri": "https://localhost:8080/"
        },
        "id": "QXgfdfJmgUMi",
        "outputId": "938ebfec-07a4-4ddd-f24c-ec2015568d4c"
      },
      "source": [
        "torch.t(t6)"
      ],
      "execution_count": 16,
      "outputs": [
        {
          "output_type": "execute_result",
          "data": {
            "text/plain": [
              "tensor([[0.2446, 0.9207],\n",
              "        [0.7120, 0.7100],\n",
              "        [0.2166, 0.8306],\n",
              "        [0.8870, 0.5188],\n",
              "        [0.8762, 0.9461],\n",
              "        [0.8191, 0.2947],\n",
              "        [0.4769, 0.8578],\n",
              "        [0.2140, 0.4882],\n",
              "        [0.0050, 0.0801],\n",
              "        [0.9812, 0.3850]])"
            ]
          },
          "metadata": {
            "tags": []
          },
          "execution_count": 16
        }
      ]
    },
    {
      "cell_type": "markdown",
      "metadata": {
        "id": "9Rru9If5Lfgv"
      },
      "source": [
        "The dimensions `0` and `1` in the tensor with size `(2,10)` were transposed to `(10,2)`."
      ]
    },
    {
      "cell_type": "code",
      "metadata": {
        "colab": {
          "base_uri": "https://localhost:8080/",
          "height": 183
        },
        "id": "nqomzZSkLfgv",
        "outputId": "377ea299-445a-4d36-ffd3-e762e4e929b3"
      },
      "source": [
        "t7= torch.rand(2,5,3)\n",
        "torch.t(t7)"
      ],
      "execution_count": 17,
      "outputs": [
        {
          "output_type": "error",
          "ename": "RuntimeError",
          "evalue": "ignored",
          "traceback": [
            "\u001b[0;31m---------------------------------------------------------------------------\u001b[0m",
            "\u001b[0;31mRuntimeError\u001b[0m                              Traceback (most recent call last)",
            "\u001b[0;32m<ipython-input-17-b5b17b797990>\u001b[0m in \u001b[0;36m<module>\u001b[0;34m()\u001b[0m\n\u001b[1;32m      1\u001b[0m \u001b[0mt7\u001b[0m\u001b[0;34m=\u001b[0m \u001b[0mtorch\u001b[0m\u001b[0;34m.\u001b[0m\u001b[0mrand\u001b[0m\u001b[0;34m(\u001b[0m\u001b[0;36m2\u001b[0m\u001b[0;34m,\u001b[0m\u001b[0;36m5\u001b[0m\u001b[0;34m,\u001b[0m\u001b[0;36m3\u001b[0m\u001b[0;34m)\u001b[0m\u001b[0;34m\u001b[0m\u001b[0;34m\u001b[0m\u001b[0m\n\u001b[0;32m----> 2\u001b[0;31m \u001b[0mtorch\u001b[0m\u001b[0;34m.\u001b[0m\u001b[0mt\u001b[0m\u001b[0;34m(\u001b[0m\u001b[0mt7\u001b[0m\u001b[0;34m)\u001b[0m\u001b[0;34m\u001b[0m\u001b[0;34m\u001b[0m\u001b[0m\n\u001b[0m",
            "\u001b[0;31mRuntimeError\u001b[0m: t() expects a tensor with <= 2 dimensions, but self is 3D"
          ]
        }
      ]
    },
    {
      "cell_type": "markdown",
      "metadata": {
        "id": "Uvl9_SS8Lfgv"
      },
      "source": [
        "`torch.t` takes only a `2D` tensor input. Once an input other than that is given, the code breaks."
      ]
    },
    {
      "cell_type": "markdown",
      "metadata": {
        "id": "egFjT5LVLfgv"
      },
      "source": [
        "Can be used when peforming mathematical functions on `2D` tensors having only one `n-dimensions` in common."
      ]
    },
    {
      "cell_type": "code",
      "metadata": {
        "colab": {
          "base_uri": "https://localhost:8080/",
          "height": 105
        },
        "id": "uH-rQ1UiLfgv",
        "outputId": "b95ec4d6-04c1-4010-ea38-ad78790acb5f"
      },
      "source": [
        "jovian.commit(project='01-tensor-operations')"
      ],
      "execution_count": 18,
      "outputs": [
        {
          "output_type": "stream",
          "text": [
            "[jovian] Detected Colab notebook...\u001b[0m\n",
            "[jovian] Uploading colab notebook to Jovian...\u001b[0m\n",
            "[jovian] Capturing environment..\u001b[0m\n",
            "[jovian] Committed successfully! https://jovian.ai/tdogubo/01-tensor-operations\u001b[0m\n"
          ],
          "name": "stdout"
        },
        {
          "output_type": "execute_result",
          "data": {
            "application/vnd.google.colaboratory.intrinsic+json": {
              "type": "string"
            },
            "text/plain": [
              "'https://jovian.ai/tdogubo/01-tensor-operations'"
            ]
          },
          "metadata": {
            "tags": []
          },
          "execution_count": 18
        }
      ]
    },
    {
      "cell_type": "markdown",
      "metadata": {
        "id": "mbYijSU8Lfgv"
      },
      "source": [
        "## Function 4 - torch.movedim\n",
        "Swaps the dimensions of the specified input."
      ]
    },
    {
      "cell_type": "code",
      "metadata": {
        "colab": {
          "base_uri": "https://localhost:8080/"
        },
        "id": "gNU2v5_v_cxb",
        "outputId": "95240bdf-84ad-4641-f7bc-929bf746ab54"
      },
      "source": [
        "t7, t7.shape"
      ],
      "execution_count": 19,
      "outputs": [
        {
          "output_type": "execute_result",
          "data": {
            "text/plain": [
              "(tensor([[[0.8323, 0.8677, 0.6070],\n",
              "          [0.2722, 0.2819, 0.2909],\n",
              "          [0.6891, 0.8325, 0.9842],\n",
              "          [0.9033, 0.3702, 0.7742],\n",
              "          [0.7925, 0.2935, 0.2271]],\n",
              " \n",
              "         [[0.3021, 0.6506, 0.4546],\n",
              "          [0.1959, 0.8389, 0.5252],\n",
              "          [0.5334, 0.9954, 0.7350],\n",
              "          [0.5527, 0.7025, 0.2297],\n",
              "          [0.9180, 0.0738, 0.3711]]]), torch.Size([2, 5, 3]))"
            ]
          },
          "metadata": {
            "tags": []
          },
          "execution_count": 19
        }
      ]
    },
    {
      "cell_type": "code",
      "metadata": {
        "colab": {
          "base_uri": "https://localhost:8080/"
        },
        "id": "HBnjfsNaLfgv",
        "outputId": "659e2c9e-74c6-4dc2-a3ad-0d2cdea5db03"
      },
      "source": [
        "torch.movedim(t7,0,1), torch.movedim(t7,0,1).shape"
      ],
      "execution_count": 20,
      "outputs": [
        {
          "output_type": "execute_result",
          "data": {
            "text/plain": [
              "(tensor([[[0.8323, 0.8677, 0.6070],\n",
              "          [0.3021, 0.6506, 0.4546]],\n",
              " \n",
              "         [[0.2722, 0.2819, 0.2909],\n",
              "          [0.1959, 0.8389, 0.5252]],\n",
              " \n",
              "         [[0.6891, 0.8325, 0.9842],\n",
              "          [0.5334, 0.9954, 0.7350]],\n",
              " \n",
              "         [[0.9033, 0.3702, 0.7742],\n",
              "          [0.5527, 0.7025, 0.2297]],\n",
              " \n",
              "         [[0.7925, 0.2935, 0.2271],\n",
              "          [0.9180, 0.0738, 0.3711]]]), torch.Size([5, 2, 3]))"
            ]
          },
          "metadata": {
            "tags": []
          },
          "execution_count": 20
        }
      ]
    },
    {
      "cell_type": "markdown",
      "metadata": {
        "id": "8Wd14Jw8Lfgv"
      },
      "source": [
        "The 1st and 2nd dimensions were swapped. So, the original shape of `(2,5,3)` changed to `(5,2,3)`. "
      ]
    },
    {
      "cell_type": "code",
      "metadata": {
        "colab": {
          "base_uri": "https://localhost:8080/"
        },
        "id": "2QZm32sdLfgv",
        "outputId": "4d042db8-91bb-4756-9b99-fb34b0dd368a"
      },
      "source": [
        "t8= torch.rand(2,3,1)\n",
        "t8"
      ],
      "execution_count": 21,
      "outputs": [
        {
          "output_type": "execute_result",
          "data": {
            "text/plain": [
              "tensor([[[0.3803],\n",
              "         [0.7869],\n",
              "         [0.2747]],\n",
              "\n",
              "        [[0.8649],\n",
              "         [0.0683],\n",
              "         [0.1488]]])"
            ]
          },
          "metadata": {
            "tags": []
          },
          "execution_count": 21
        }
      ]
    },
    {
      "cell_type": "code",
      "metadata": {
        "colab": {
          "base_uri": "https://localhost:8080/"
        },
        "id": "-XODYM3lBs8b",
        "outputId": "69cdfa74-77f5-4f44-a3cd-cdda90a28507"
      },
      "source": [
        "torch.movedim(t8,(2,1),(0,1)), torch.movedim(t8,(2,1),(0,1)).shape"
      ],
      "execution_count": 22,
      "outputs": [
        {
          "output_type": "execute_result",
          "data": {
            "text/plain": [
              "(tensor([[[0.3803, 0.8649],\n",
              "          [0.7869, 0.0683],\n",
              "          [0.2747, 0.1488]]]), torch.Size([1, 3, 2]))"
            ]
          },
          "metadata": {
            "tags": []
          },
          "execution_count": 22
        }
      ]
    },
    {
      "cell_type": "markdown",
      "metadata": {
        "id": "S9jRYVN4Lfgv"
      },
      "source": [
        "In the example, the dimensions to be moved, `(2,1)` were moved to the destination `(0,1)`. Because `dimension 1` destination was not changed, the tensors remained unchanged. Hence the shape `(2,3,1)` changed to `(1,3,2)`."
      ]
    },
    {
      "cell_type": "code",
      "metadata": {
        "colab": {
          "base_uri": "https://localhost:8080/",
          "height": 201
        },
        "id": "WMMFnfbDLfgv",
        "outputId": "941c7ba4-3efa-45da-c6f3-96b55bab02ae"
      },
      "source": [
        "torch.movedim(array)"
      ],
      "execution_count": 23,
      "outputs": [
        {
          "output_type": "error",
          "ename": "TypeError",
          "evalue": "ignored",
          "traceback": [
            "\u001b[0;31m---------------------------------------------------------------------------\u001b[0m",
            "\u001b[0;31mTypeError\u001b[0m                                 Traceback (most recent call last)",
            "\u001b[0;32m<ipython-input-23-8f718182bb13>\u001b[0m in \u001b[0;36m<module>\u001b[0;34m()\u001b[0m\n\u001b[0;32m----> 1\u001b[0;31m \u001b[0mtorch\u001b[0m\u001b[0;34m.\u001b[0m\u001b[0mmovedim\u001b[0m\u001b[0;34m(\u001b[0m\u001b[0marray\u001b[0m\u001b[0;34m)\u001b[0m\u001b[0;34m\u001b[0m\u001b[0;34m\u001b[0m\u001b[0m\n\u001b[0m",
            "\u001b[0;31mTypeError\u001b[0m: movedim() received an invalid combination of arguments - got (numpy.ndarray), but expected one of:\n * (Tensor input, tuple of ints source, tuple of ints destination)\n * (Tensor input, int source, int destination)\n"
          ]
        }
      ]
    },
    {
      "cell_type": "markdown",
      "metadata": {
        "id": "zCP6u4b_Lfgv"
      },
      "source": [
        "The function only accepts a tensor as the input. If any other input aside from a tensor is given, the function breaks."
      ]
    },
    {
      "cell_type": "markdown",
      "metadata": {
        "id": "DWnmWs58Lfgv"
      },
      "source": [
        "Can be used when you want to change the shape of a tensor without altering the contents. Unlike `torch.t`, `torch.movedim` is not limited to `2D` tensors only."
      ]
    },
    {
      "cell_type": "code",
      "metadata": {
        "colab": {
          "base_uri": "https://localhost:8080/",
          "height": 105
        },
        "id": "RZZCgEWNLfgv",
        "outputId": "95d5a062-9a05-4265-d72b-e6d37c354025"
      },
      "source": [
        "jovian.commit(project='01-tensor-operations')"
      ],
      "execution_count": 24,
      "outputs": [
        {
          "output_type": "stream",
          "text": [
            "[jovian] Detected Colab notebook...\u001b[0m\n",
            "[jovian] Uploading colab notebook to Jovian...\u001b[0m\n",
            "[jovian] Capturing environment..\u001b[0m\n",
            "[jovian] Committed successfully! https://jovian.ai/tdogubo/01-tensor-operations\u001b[0m\n"
          ],
          "name": "stdout"
        },
        {
          "output_type": "execute_result",
          "data": {
            "application/vnd.google.colaboratory.intrinsic+json": {
              "type": "string"
            },
            "text/plain": [
              "'https://jovian.ai/tdogubo/01-tensor-operations'"
            ]
          },
          "metadata": {
            "tags": []
          },
          "execution_count": 24
        }
      ]
    },
    {
      "cell_type": "markdown",
      "metadata": {
        "id": "74GE0z9oLfgv"
      },
      "source": [
        "## Function 5 - torch.floor\n",
        "Rounds the tensors to the lowest possible number."
      ]
    },
    {
      "cell_type": "code",
      "metadata": {
        "colab": {
          "base_uri": "https://localhost:8080/"
        },
        "id": "11oSbQBMLfgw",
        "outputId": "3b716a60-0acc-4608-e337-e0a5ba20a367"
      },
      "source": [
        "t9= torch.tensor([[1.0, 1.9, 4.5, 2],\n",
        "        [5, 3, 1, 4],\n",
        "        [2, 3, 1, 1]])\n",
        "t9"
      ],
      "execution_count": 25,
      "outputs": [
        {
          "output_type": "execute_result",
          "data": {
            "text/plain": [
              "tensor([[1.0000, 1.9000, 4.5000, 2.0000],\n",
              "        [5.0000, 3.0000, 1.0000, 4.0000],\n",
              "        [2.0000, 3.0000, 1.0000, 1.0000]])"
            ]
          },
          "metadata": {
            "tags": []
          },
          "execution_count": 25
        }
      ]
    },
    {
      "cell_type": "code",
      "metadata": {
        "colab": {
          "base_uri": "https://localhost:8080/"
        },
        "id": "_1nXvYG8K5Ne",
        "outputId": "3069015c-bdab-4e15-d7c4-58dbab75c9cb"
      },
      "source": [
        "torch.floor(t9)"
      ],
      "execution_count": 26,
      "outputs": [
        {
          "output_type": "execute_result",
          "data": {
            "text/plain": [
              "tensor([[1., 1., 4., 2.],\n",
              "        [5., 3., 1., 4.],\n",
              "        [2., 3., 1., 1.]])"
            ]
          },
          "metadata": {
            "tags": []
          },
          "execution_count": 26
        }
      ]
    },
    {
      "cell_type": "markdown",
      "metadata": {
        "id": "pXrJ0npQLfgw"
      },
      "source": [
        "`torch.floor` rounded down the numbers to the lowest possible number to zero."
      ]
    },
    {
      "cell_type": "code",
      "metadata": {
        "colab": {
          "base_uri": "https://localhost:8080/"
        },
        "id": "cM3ad4Q9Lfgw",
        "outputId": "ff9a650d-71c8-4f93-e2e2-fb9b904ac971"
      },
      "source": [
        "t10= torch.tensor([2.4,-7.6,3.4,-5.3,6.9,-0.9])\n",
        "t10"
      ],
      "execution_count": 27,
      "outputs": [
        {
          "output_type": "execute_result",
          "data": {
            "text/plain": [
              "tensor([ 2.4000, -7.6000,  3.4000, -5.3000,  6.9000, -0.9000])"
            ]
          },
          "metadata": {
            "tags": []
          },
          "execution_count": 27
        }
      ]
    },
    {
      "cell_type": "code",
      "metadata": {
        "colab": {
          "base_uri": "https://localhost:8080/"
        },
        "id": "cHwRfn0EN1aC",
        "outputId": "e55bfee7-fd6a-4b44-bce6-5a1161f17817"
      },
      "source": [
        "torch.floor(t10)"
      ],
      "execution_count": 28,
      "outputs": [
        {
          "output_type": "execute_result",
          "data": {
            "text/plain": [
              "tensor([ 2., -8.,  3., -6.,  6., -1.])"
            ]
          },
          "metadata": {
            "tags": []
          },
          "execution_count": 28
        }
      ]
    },
    {
      "cell_type": "markdown",
      "metadata": {
        "id": "KeQzFuf6Lfgw"
      },
      "source": [
        "`torch.floor` rounded down both the negative and positive numbers."
      ]
    },
    {
      "cell_type": "code",
      "metadata": {
        "colab": {
          "base_uri": "https://localhost:8080/"
        },
        "id": "tE2DnMaOLfgw",
        "outputId": "eb00dbf8-c99f-42d1-aae7-646ff0436c55"
      },
      "source": [
        "t11= torch.randint(2,15,(3,9))\n",
        "t11"
      ],
      "execution_count": 29,
      "outputs": [
        {
          "output_type": "execute_result",
          "data": {
            "text/plain": [
              "tensor([[ 7, 12,  9,  7, 11, 11, 11,  4, 13],\n",
              "        [12,  2,  3,  6, 13, 13,  2,  4,  8],\n",
              "        [13,  2, 14,  9,  6, 13,  5, 13,  9]])"
            ]
          },
          "metadata": {
            "tags": []
          },
          "execution_count": 29
        }
      ]
    },
    {
      "cell_type": "code",
      "metadata": {
        "colab": {
          "base_uri": "https://localhost:8080/",
          "height": 166
        },
        "id": "sjNp2ERMPgWd",
        "outputId": "7705aafb-2599-45b7-b79e-c41ec9cff2c8"
      },
      "source": [
        "torch.floor(t11)"
      ],
      "execution_count": 30,
      "outputs": [
        {
          "output_type": "error",
          "ename": "RuntimeError",
          "evalue": "ignored",
          "traceback": [
            "\u001b[0;31m---------------------------------------------------------------------------\u001b[0m",
            "\u001b[0;31mRuntimeError\u001b[0m                              Traceback (most recent call last)",
            "\u001b[0;32m<ipython-input-30-dbf60b9f420b>\u001b[0m in \u001b[0;36m<module>\u001b[0;34m()\u001b[0m\n\u001b[0;32m----> 1\u001b[0;31m \u001b[0mtorch\u001b[0m\u001b[0;34m.\u001b[0m\u001b[0mfloor\u001b[0m\u001b[0;34m(\u001b[0m\u001b[0mt11\u001b[0m\u001b[0;34m)\u001b[0m\u001b[0;34m\u001b[0m\u001b[0;34m\u001b[0m\u001b[0m\n\u001b[0m",
            "\u001b[0;31mRuntimeError\u001b[0m: floor_vml_cpu not implemented for 'Long'"
          ]
        }
      ]
    },
    {
      "cell_type": "markdown",
      "metadata": {
        "id": "Dz45QJ1oLfgw"
      },
      "source": [
        "`torch.floor` can only be used with `float` if an `int` is the input, an error pops up. "
      ]
    },
    {
      "cell_type": "markdown",
      "metadata": {
        "id": "9ndJgiVxLfgw"
      },
      "source": [
        "Closing comments about when to use this function"
      ]
    },
    {
      "cell_type": "code",
      "metadata": {
        "colab": {
          "base_uri": "https://localhost:8080/",
          "height": 105
        },
        "id": "LANa75ppLfgw",
        "outputId": "50fe1471-2919-4332-dcfa-bc045c9440b4"
      },
      "source": [
        "jovian.commit(project='01-tensor-operations')"
      ],
      "execution_count": 31,
      "outputs": [
        {
          "output_type": "stream",
          "text": [
            "[jovian] Detected Colab notebook...\u001b[0m\n",
            "[jovian] Uploading colab notebook to Jovian...\u001b[0m\n",
            "[jovian] Capturing environment..\u001b[0m\n",
            "[jovian] Committed successfully! https://jovian.ai/tdogubo/01-tensor-operations\u001b[0m\n"
          ],
          "name": "stdout"
        },
        {
          "output_type": "execute_result",
          "data": {
            "application/vnd.google.colaboratory.intrinsic+json": {
              "type": "string"
            },
            "text/plain": [
              "'https://jovian.ai/tdogubo/01-tensor-operations'"
            ]
          },
          "metadata": {
            "tags": []
          },
          "execution_count": 31
        }
      ]
    },
    {
      "cell_type": "markdown",
      "metadata": {
        "id": "_g0cHCELLfgw"
      },
      "source": [
        "## Conclusion\n",
        "\n",
        "\n",
        "1.   `torch.eye` returns a 2-D tensor with ones on the diagonal and zeros elsewhere.\n",
        "2.   `torch.chunk` splits a tensor into a specified number of `chunks`.\n",
        "3. `torch.t` converts a 2-dimensional tensor and transposes dimensions `0` and `1`.\n",
        "4. `torch.movedim` swaps the dimensions of the specified input.\n",
        "5. `torch.ceil` rounds the tensors to the lowest possible number.\n"
      ]
    },
    {
      "cell_type": "markdown",
      "metadata": {
        "id": "NFQefJXuLfgw"
      },
      "source": [
        "## Reference Links\n",
        "Provide links to your references and other interesting articles about tensors\n",
        "* Official documentation for tensor operations: https://pytorch.org/docs/stable/torch.html\n",
        "* GeeksforGeeks : [geeksforgeeks.org/python-pytorch-eye-method/](https://geeksforgeeks.org/python-pytorch-eye-method/)\n",
        "\n",
        "*  Floor and Celing Functions : [https://en.wikipedia.org/wiki/Floor_and_ceiling_functions](https://en.wikipedia.org/wiki/Floor_and_ceiling_functions)"
      ]
    },
    {
      "cell_type": "code",
      "metadata": {
        "colab": {
          "base_uri": "https://localhost:8080/",
          "height": 105
        },
        "id": "zhsNwP69Lfgw",
        "outputId": "6d9b6ed4-9467-427e-9a6e-4ccf362852cb"
      },
      "source": [
        "jovian.commit(project='01-tensor-operations')"
      ],
      "execution_count": null,
      "outputs": [
        {
          "output_type": "stream",
          "text": [
            "[jovian] Detected Colab notebook...\u001b[0m\n",
            "[jovian] Uploading colab notebook to Jovian...\u001b[0m\n",
            "[jovian] Capturing environment..\u001b[0m\n",
            "[jovian] Committed successfully! https://jovian.ai/tdogubo/01-tensor-operations\u001b[0m\n"
          ],
          "name": "stdout"
        },
        {
          "output_type": "execute_result",
          "data": {
            "application/vnd.google.colaboratory.intrinsic+json": {
              "type": "string"
            },
            "text/plain": [
              "'https://jovian.ai/tdogubo/01-tensor-operations'"
            ]
          },
          "metadata": {
            "tags": []
          },
          "execution_count": 98
        }
      ]
    },
    {
      "cell_type": "code",
      "metadata": {
        "id": "BjZAOd4ZLfgw"
      },
      "source": [
        ""
      ],
      "execution_count": null,
      "outputs": []
    }
  ]
}